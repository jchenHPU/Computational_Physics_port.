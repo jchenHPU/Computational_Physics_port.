{
 "cells": [
  {
   "attachments": {
    "image.png": {
     "image/png": "[encoded data removed]"
    }
   },
   "cell_type": "markdown",
   "id": "1a893723",
   "metadata": {},
   "source": [
    "# Project 1 double Pendlum\n",
    "a double pendulum is supposedly would have 2 rods L1 and L2 that has a small ball attach to them. \n",
    "![image.png](attachment:image.png)"
   ]
  },
  {
   "cell_type": "code",
   "execution_count": 1,
   "id": "003e8b83",
   "metadata": {},
   "outputs": [
    {
     "data": {
      "text/html": [
       "<div id=\"glowscript\" class=\"glowscript\"></div>"
      ],
      "text/plain": [
       "<IPython.core.display.HTML object>"
      ]
     },
     "metadata": {},
     "output_type": "display_data"
    },
    {
     "data": {
      "application/javascript": [
       "if (typeof Jupyter !== \"undefined\") { window.__context = { glowscript_container: $(\"#glowscript\").removeAttr(\"id\")};}else{ element.textContent = ' ';}"
      ],
      "text/plain": [
       "<IPython.core.display.Javascript object>"
      ]
     },
     "metadata": {},
     "output_type": "display_data"
    }
   ],
   "source": [
    "from vpython import *\n",
    "import ode\n",
    "import numpy as np\n",
    "import matplotlib.pyplot as plt"
   ]
  },
  {
   "cell_type": "markdown",
   "id": "67e460ad",
   "metadata": {},
   "source": [
    "### the First thing we need to do is set up the indepent values \n"
   ]
  },
  {
   "cell_type": "code",
   "execution_count": 2,
   "id": "da55a436",
   "metadata": {},
   "outputs": [],
   "source": [
    "R = 1 #m\n",
    "g = 9.81 #N/kg\n",
    "m1 = 2 #mass of object 1\n",
    "m2 = 1 #mass of object 2\n",
    "L1 = 1.4 #length of rod 1\n",
    "L2 = 1 #length of rod 2"
   ]
  },
  {
   "cell_type": "markdown",
   "id": "ae3a281b",
   "metadata": {},
   "source": [
    "## Original code for a single pendulum\n",
    "this was the original code for a single pendulum so to do a double pendlum we are going to need to add a second theta and omega for the other pendulum and the arrays for them then and them to the pendulum function with a different math values"
   ]
  },
  {
   "cell_type": "code",
   "execution_count": null,
   "id": "b1085ce1",
   "metadata": {},
   "outputs": [],
   "source": [
    "def pendulum(dep, t):\n",
    "    \"\"\" Calculate and return the derivative [d/dt, d^2/dt^2] evaluated as a function of y, dy/dt, and t\n",
    "    where y is the dependent variable.\n",
    "    \n",
    "    Keyword arguments:\n",
    "    t -- time at the beginning of the time step\n",
    "    dep -- an array of the dependent variable and its derivative [y, dy/dt]_n at time t\n",
    "    \"\"\"    \n",
    "    theta = dep[0]\n",
    "    omega = dep[1]\n",
    "    deriv = np.zeros(2)\n",
    "    deriv[0]= omega #dtheta/dt\n",
    "    deriv[1]= -g/R*np.sin(theta)#domega/dt\n",
    "    return deriv\n",
    "\n",
    "g = 10 #N/kg\n",
    "R = 1 #m\n",
    "m = 1\n",
    "#dependent variables\n",
    "theta0 = np.pi/2\n",
    "omega0 = 0\n",
    "data = np.array([theta0, omega0]) #initialize array to store dependent variables\n",
    "\n",
    "#independent variable\n",
    "t = 0\n",
    "h = 0.000001\n",
    "v= 0\n",
    "Nsteps = int(5/h) #N steps for T seconds of evolution\n",
    "\n",
    "#create arrays needed for plotting theta vs. t and omega vs. t\n",
    "\n",
    "tarr = np.zeros(Nsteps)\n",
    "thetaarr = np.zeros(Nsteps)\n",
    "omegaarr = np.zeros(Nsteps)\n",
    "\n",
    "tarr[0] = t\n",
    "thetaarr[0] = theta0\n",
    "omegaarr[0] = omega0\n",
    "\n",
    "#create a time evolution loop\n",
    "\n",
    "for n in range(1,Nsteps):\n",
    "    \n",
    "    data = ode.RK4(pendulum, data, t, h)#update theta and omega\n",
    "    t = t + h #update the time\n",
    "    \n",
    "    #store the values\n",
    "    tarr[n] = t\n",
    "    thetaarr[n]= data[0]#store theta\n",
    "    omegaarr[n]= data[1]#store omega"
   ]
  },
  {
   "cell_type": "markdown",
   "id": "9f6f7034",
   "metadata": {},
   "source": [
    "# Adding the second theta and omega to the array and values\n",
    "Note that this thing takes a really long time to load due to the amound of calculations it has to do in part with the first and second pendlum together."
   ]
  },
  {
   "cell_type": "code",
   "execution_count": 6,
   "id": "cb98921f",
   "metadata": {},
   "outputs": [],
   "source": [
    "def pendulum(dep, t):\n",
    "    \"\"\" Calculate and return the derivative of [theta1, omega1, theta2, omega2] evaluated as a function of y, dy/dt, and t\n",
    "    where y is the dependent variable.\n",
    "    \n",
    "    Keyword arguments:\n",
    "    t -- time at the beginning of the time step\n",
    "    dep -- an array of the dependent variable and its derivative [y, dy/dt]_n at time t\n",
    "    \"\"\" \n",
    "    c = np.cos(dep[0]- dep[2])\n",
    "    s = np.sin(dep[0]- dep[2])\n",
    "    \n",
    "    deriv = np.zeros(4)\n",
    "    deriv[0]= dep[1] #dtheta/dt\n",
    "    deriv[1]= ( m2*g*np.sin(dep[2])*c - m2*s*(L1*c*dep[1]**2 + L2*dep[3]**2) - (m1+m2)*g*np.sin(dep[0]) ) /( L1 *(m1+m2*s**2))\n",
    "    deriv[2]= dep[3]\n",
    "    deriv[3]= ((m1+m2)*(L1*dep[1]**2*s - g*np.sin(dep[2]) + g*np.sin(dep[0])*c) + m2*L2*dep[3]**2*s*c) / (L2 * (m1 + m2*s**2))\n",
    "    return deriv\n",
    "\n",
    "\n",
    "#dependent variables\n",
    "theta1 = np.pi/2\n",
    "theta2 = np.pi/1.8\n",
    "omega1 = 0\n",
    "omega2 = 0\n",
    "data = np.array([theta1, omega1, theta2, omega2]) #initialize array to store dependent variables\n",
    "\n",
    "#independent variable\n",
    "t = 0\n",
    "h = 0.000001\n",
    "v= 0\n",
    "Nsteps = int(5/h) #N steps for T seconds of evolution\n",
    "\n",
    "#create arrays needed for plotting theta vs. t and omega vs. t\n",
    "\n",
    "tarr = np.zeros(Nsteps)\n",
    "thetaarr = np.zeros(Nsteps)\n",
    "thetaarr2 = np.zeros(Nsteps)\n",
    "omegaarr = np.zeros(Nsteps)\n",
    "omegaarr2 = np.zeros(Nsteps)\n",
    "\n",
    "tarr[0] = t\n",
    "thetaarr[0] = theta1\n",
    "thetaarr2[0] = theta2\n",
    "omegaarr[0] = omega1\n",
    "omegaarr2[0] = omega2\n",
    "\n",
    "#create a time evolution loop\n",
    "\n",
    "for n in range(1,Nsteps):\n",
    "    \n",
    "    data = ode.RK4(pendulum, data, t, h)#update theta and omega\n",
    "    t = t + h #update the time\n",
    "    \n",
    "    #store the values\n",
    "    tarr[n] = t\n",
    "    thetaarr[n]= data[0]#store theta\n",
    "    omegaarr[n]= data[1]#store omega\n",
    "    thetaarr2[n]= data[2]#store theta2\n",
    "    omegaarr2[n]= data[3]#store omega2"
   ]
  },
  {
   "cell_type": "code",
   "execution_count": 7,
   "id": "b130ffbe",
   "metadata": {},
   "outputs": [
    {
     "data": {
      "image/png": "[encoded data removed]",
      "text/plain": [
       "<Figure size 432x288 with 1 Axes>"
      ]
     },
     "metadata": {
      "needs_background": "light"
     },
     "output_type": "display_data"
    }
   ],
   "source": [
    "fig = plt.figure()\n",
    "plt.title(\"Theta vs time for a pendulum\")\n",
    "plt.xlabel('t (s)')\n",
    "plt.ylabel('theta (rad)')\n",
    "plt.plot(tarr, omegaarr, 'b-')\n",
    "plt.plot(tarr, thetaarr, 'r-')\n",
    "plt.plot(tarr, omegaarr2, 'b--')\n",
    "plt.plot(tarr, thetaarr2, 'r--')\n",
    "plt.show()"
   ]
  },
  {
   "cell_type": "markdown",
   "id": "57ed4277",
   "metadata": {},
   "source": [
    "## Animation of the model\n",
    "the part thats different is that you have more elements to update and you have to think about how to update the second pendulum in part with the first one."
   ]
  },
  {
   "cell_type": "code",
   "execution_count": 8,
   "id": "cb853f93",
   "metadata": {},
   "outputs": [
    {
     "data": {
      "text/html": [
       "<div id=\"glowscript\" class=\"glowscript\"></div>"
      ],
      "text/plain": [
       "<IPython.core.display.HTML object>"
      ]
     },
     "metadata": {},
     "output_type": "display_data"
    },
    {
     "data": {
      "application/javascript": [
       "if (typeof Jupyter !== \"undefined\") { window.__context = { glowscript_container: $(\"#glowscript\").removeAttr(\"id\")};}else{ element.textContent = ' ';}"
      ],
      "text/plain": [
       "<IPython.core.display.Javascript object>"
      ]
     },
     "metadata": {},
     "output_type": "display_data"
    }
   ],
   "source": [
    "scene = canvas(titles=\"Double Pendulum\")\n",
    "\n",
    "xarray1 = L1*np.sin(thetaarr)\n",
    "yarray1 = -L2*np.cos(thetaarr)\n",
    "\n",
    "xarray2 = xarray1 + L2*np.sin(thetaarr2)\n",
    "yarray2 = yarray1 - L2*np.cos(thetaarr2)\n",
    "\n",
    "ball1 = sphere(pos= vec(xarray1[0], yarray1[0], 0), radius = L1*.10, make_trail=True)\n",
    "rod1 = cylinder(pos = vec(0,0,0), radius = L1 * .025, axis = ball1.pos)\n",
    "\n",
    "ball2 = sphere(pos= vec(xarray2[0], yarray2[0], 0), radius = L2*.10, make_trail=True)\n",
    "rod2 = cylinder(pos = ball1.pos, radius = L2 * .025, axis = ball2.pos - ball1.pos)\n",
    "\n",
    "scene.pause()\n",
    "\n",
    "for n in range(1,Nsteps):\n",
    "    rate(10000)\n",
    "    ball1.pos = vec(xarray1[n], yarray1[n],0)\n",
    "    rod1.axis = ball1.pos\n",
    "    \n",
    "    ball2.pos = vec(xarray2[n], yarray2[n], 0)\n",
    "    rod2.pos = ball1.pos\n",
    "    rod2.axis = ball2.pos - ball1.pos\n",
    "    "
   ]
  },
  {
   "cell_type": "code",
   "execution_count": null,
   "id": "cdecf758",
   "metadata": {},
   "outputs": [],
   "source": []
  }
 ],
 "metadata": {
  "kernelspec": {
   "display_name": "Python 3 (ipykernel)",
   "language": "python",
   "name": "python3"
  },
  "language_info": {
   "codemirror_mode": {
    "name": "ipython",
    "version": 3
   },
   "file_extension": ".py",
   "mimetype": "text/x-python",
   "name": "python",
   "nbconvert_exporter": "python",
   "pygments_lexer": "ipython3",
   "version": "3.9.7"
  }
 },
 "nbformat": 4,
 "nbformat_minor": 5
}
