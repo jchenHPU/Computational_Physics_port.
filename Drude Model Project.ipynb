{
 "cells": [
  {
   "cell_type": "markdown",
   "id": "d4acd910",
   "metadata": {},
   "source": [
    "# Creating the Drude model\n",
    "##### by Justin Chen and Collen Moe\n",
    "\n",
    "## About\n",
    "I wanted to create a model in which reflects the druid model\n",
    "\n",
    "## Druid model\n",
    "The Drude model of electrical conduction was proposed in 1900 by Paul Drude to explain the transport properties of electrons in materials (especially metals). Basically, Ohm's law was well established and stated that the current J and voltage V driving the current are related to the resistance R of the material.\n",
    "\n",
    "# the start / idea.\n",
    "\n",
    "Used the Ideal gas code as the base of the coding\n",
    "\n",
    "Suppose we wanted to model the transportation of electons through a system thats where the drude model is used.\n"
   ]
  },
  {
   "cell_type": "markdown",
   "id": "f0243ca6",
   "metadata": {},
   "source": [
    "## Start of the Drude Model"
   ]
  },
  {
   "cell_type": "code",
   "execution_count": 1,
   "id": "f79d4602",
   "metadata": {},
   "outputs": [
    {
     "data": {
      "text/html": [
       "<div id=\"glowscript\" class=\"glowscript\"></div>"
      ],
      "text/plain": [
       "<IPython.core.display.HTML object>"
      ]
     },
     "metadata": {},
     "output_type": "display_data"
    },
    {
     "data": {
      "application/javascript": [
       "if (typeof Jupyter !== \"undefined\") { window.__context = { glowscript_container: $(\"#glowscript\").removeAttr(\"id\")};}else{ element.textContent = ' ';}"
      ],
      "text/plain": [
       "<IPython.core.display.Javascript object>"
      ]
     },
     "metadata": {},
     "output_type": "display_data"
    }
   ],
   "source": [
    "from vpython import *\n",
    "import numpy as np\n",
    "import random as rand\n",
    "import matplotlib.pyplot as plt"
   ]
  },
  {
   "cell_type": "code",
   "execution_count": 2,
   "id": "0934262a",
   "metadata": {},
   "outputs": [],
   "source": [
    "def check_collisions():\n",
    "    \"\"\"Determine all pairs of colliding spheres in the global particles[] list. \n",
    "        \n",
    "    \"\"\"\n",
    "    collided_pairs = [] #a list of pairs of spheres that are overlapping\n",
    "    \n",
    "    for i in range(N):\n",
    "        for j in range(i+1,N): #start at i+1 to avoid double counting and to avoid self-collision\n",
    "            d = mag(particles[i].pos - particles[j].pos)\n",
    "            if d < 2*R:\n",
    "                collided_pairs.append([i,j])            \n",
    "    \n",
    "    return collided_pairs"
   ]
  },
  {
   "cell_type": "code",
   "execution_count": 3,
   "id": "a6d35cb4",
   "metadata": {},
   "outputs": [],
   "source": [
    "def calc_collision(i,j):\n",
    "    \"\"\"Calculate new velocity, momentum, and position of pairs of colliding spheres in the global particles[] list. \n",
    "\n",
    "    Keyword arguments:\n",
    "    i -- index of one colliding sphere\n",
    "    j -- index of second colliding sphere\n",
    "\n",
    "    \"\"\"\n",
    "\n",
    "    global particles\n",
    "    \n",
    "    r1 = particles[i].pos\n",
    "    r2 = particles[j].pos\n",
    "    v1 = particles[i].v\n",
    "    v2 = particles[j].v\n",
    "    p1 = m*v1\n",
    "    p2 = m*v2\n",
    "    v1i = v1\n",
    "    v2i = v2\n",
    "    \n",
    "    #transform to reference frame of particle 1\n",
    "    v2rel = v2 - v1\n",
    "    r2rel = r2 - r1\n",
    "    \n",
    "    #find time when collision ocurred\n",
    "    dx = dot(r2rel, hat(v2rel))\n",
    "    dy = mag(cross(r2rel, hat(v2rel)))\n",
    "    alpha = asin(dy/2/R)\n",
    "    d = 2*R*cos(alpha) + dx\n",
    "    deltat = d/mag(v2rel)\n",
    "    \n",
    "    #move particles backward in time to their locations at the collision\n",
    "    particles[i].pos = particles[i].pos - particles[i].v*deltat\n",
    "    particles[j].pos = particles[j].pos - particles[j].v*deltat\n",
    "    \n",
    "    #calculate new momenta using CM reference frame\n",
    "    r1 = particles[i].pos\n",
    "    r2 = particles[j].pos\n",
    "    M = 2*m #total mass\n",
    "    ptot = p1+p2 #total momentum\n",
    "    vcm = ptot/M\n",
    "    v1rel = v1 - vcm\n",
    "    v2rel = v2 - vcm\n",
    "    p1rel = m*v1rel\n",
    "    p2rel = m*v2rel\n",
    "    r = r2 - r1\n",
    "    p1rel = p1rel - 2*dot(p1rel,hat(r))*hat(r)\n",
    "    p2rel = p2rel - 2*dot(p2rel,hat(r))*hat(r)\n",
    "    v1rel = p1rel/m\n",
    "    v2rel = p2rel/m\n",
    "    v1 = vcm + v1rel\n",
    "    v2 = vcm + v2rel\n",
    "    p1 = m*v1\n",
    "    p2 = m*v2\n",
    "    particles[i].v = v1\n",
    "    particles[j].v = v2\n",
    "\n",
    "    #move particles forward in time to their locations at the end of the time step\n",
    "    particles[i].pos = particles[i].pos + particles[i].v*deltat\n",
    "    particles[j].pos = particles[j].pos + particles[j].v*deltat\n",
    "    "
   ]
  },
  {
   "cell_type": "markdown",
   "id": "4494de98",
   "metadata": {},
   "source": [
    "## Updating the location of the particles/electron\n",
    "with electrons going through the system we want to make is so that when they reach the end which is the right wall it will teleport to the left to show that more electrons are going through and going around the system same is also applied when it reaches the left wall it will teleport to the right sinces it will be colloding with the atoms and other electron particles its possible for them to make it back up to the system."
   ]
  },
  {
   "cell_type": "code",
   "execution_count": 4,
   "id": "41aa7bb6",
   "metadata": {},
   "outputs": [
    {
     "data": {
      "text/html": [
       "<div id=\"glowscript\" class=\"glowscript\"></div>"
      ],
      "text/plain": [
       "<IPython.core.display.HTML object>"
      ]
     },
     "metadata": {},
     "output_type": "display_data"
    },
    {
     "data": {
      "application/javascript": [
       "if (typeof Jupyter !== \"undefined\") { window.__context = { glowscript_container: $(\"#glowscript\").removeAttr(\"id\")};}else{ element.textContent = ' ';}"
      ],
      "text/plain": [
       "<IPython.core.display.Javascript object>"
      ]
     },
     "metadata": {},
     "output_type": "display_data"
    },
    {
     "data": {
      "application/javascript": [
       "if (typeof Jupyter !== \"undefined\") {require.undef(\"nbextensions/vpython_libraries/glow.min\");}else{element.textContent = ' ';}"
      ],
      "text/plain": [
       "<IPython.core.display.Javascript object>"
      ]
     },
     "metadata": {},
     "output_type": "display_data"
    },
    {
     "data": {
      "application/javascript": [
       "if (typeof Jupyter !== \"undefined\") {require.undef(\"nbextensions/vpython_libraries/glowcomm\");}else{element.textContent = ' ';}"
      ],
      "text/plain": [
       "<IPython.core.display.Javascript object>"
      ]
     },
     "metadata": {},
     "output_type": "display_data"
    },
    {
     "data": {
      "application/javascript": [
       "if (typeof Jupyter !== \"undefined\") {require.undef(\"nbextensions/vpython_libraries/jquery-ui.custom.min\");}else{element.textContent = ' ';}"
      ],
      "text/plain": [
       "<IPython.core.display.Javascript object>"
      ]
     },
     "metadata": {},
     "output_type": "display_data"
    },
    {
     "data": {
      "application/javascript": [
       "if (typeof Jupyter !== \"undefined\") {require([\"nbextensions/vpython_libraries/glow.min\"], function(){console.log(\"GLOW LOADED\");});}else{element.textContent = ' ';}"
      ],
      "text/plain": [
       "<IPython.core.display.Javascript object>"
      ]
     },
     "metadata": {},
     "output_type": "display_data"
    },
    {
     "data": {
      "application/javascript": [
       "if (typeof Jupyter !== \"undefined\") {require([\"nbextensions/vpython_libraries/glowcomm\"], function(){console.log(\"GLOWCOMM LOADED\");});}else{element.textContent = ' ';}"
      ],
      "text/plain": [
       "<IPython.core.display.Javascript object>"
      ]
     },
     "metadata": {},
     "output_type": "display_data"
    },
    {
     "data": {
      "application/javascript": [
       "if (typeof Jupyter !== \"undefined\") {require([\"nbextensions/vpython_libraries/jquery-ui.custom.min\"], function(){console.log(\"JQUERY LOADED\");});}else{element.textContent = ' ';}"
      ],
      "text/plain": [
       "<IPython.core.display.Javascript object>"
      ]
     },
     "metadata": {},
     "output_type": "display_data"
    }
   ],
   "source": [
    "scene = canvas(title=\"N Particles in a Box\")\n",
    "\n",
    "#constants\n",
    "m = 1.7e-27 #mass of atom in kg\n",
    "R = 0.5e-10 #radius of atom in m\n",
    "L = 40*R #length of box in m\n",
    "thick = L/100 #thickness of box wall in m\n",
    "k = 1.4e-23 #boltzmann constant\n",
    "T = 300 #temp in K\n",
    "s =  np.sqrt(2*3/2*k*T/m) #initial speed\n",
    "\n",
    "\n",
    "Lwall = box(pos = vec(-2*L, 0, 0), size = vec(thick, L, L), color=color.white)\n",
    "Rwall = box(pos = vec(2*L, 0, 0), size = vec(thick, L, L), color=color.white)\n",
    "Bwall = box(pos = vec(0, -L/2, 0), size = vec(4*L, thick, L), color=color.white)\n",
    "Twall = box(pos = vec(0, L/2, 0), size = vec(4*L, thick, L), color=color.white)\n",
    "Zwall = box(pos = vec(0, 0, -L/2), size = vec(4*L, L, thick), color=color.white)\n",
    "\n",
    "particles = [] #list of particles\n",
    "\n",
    "N=4 #number of particles\n",
    "\n",
    "#create particles\n",
    "for i in range(N):\n",
    "    if i==0:\n",
    "        particle = sphere(pos = L/2*vec(rand.uniform(-2,-1),rand.uniform(-0.9,0.9),rand.uniform(-0.9,0.9)), radius = R, color = color.cyan, make_trail=True, retain=20, trail_radius=0.3*R)\n",
    "    else:\n",
    "        particle = sphere(pos = L/2*vec(rand.uniform(-2,-1),rand.uniform(-0.9,0.9),rand.uniform(-0.9,0.9)), radius = R, color = color.red)\n",
    "\n",
    "    #initial velocity\n",
    "    particle.v = s*hat(vec(1, rand.uniform(-1,1),rand.uniform(-1,1)))\n",
    "    particle.p = m*particle.v\n",
    "\n",
    "    particles.append(particle)\n",
    "\n",
    "#check for collisions and rerandomize positions of particles that are collided\n",
    "collided_pairs = check_collisions()\n",
    "while len(collided_pairs)!=0:\n",
    "    for pair in collided_pairs:\n",
    "        particles[pair[0]].pos = L/2*vec(rand.uniform(-1,1),rand.uniform(-1,1),rand.uniform(-1,1))\n",
    "        particles[pair[1]].pos = L/2*vec(rand.uniform(-1,1),rand.uniform(-1,1),rand.uniform(-1,1))\n",
    "    collided_pairs = check_collisions()\n",
    "\n",
    "#time\n",
    "t = 0\n",
    "dt = R/s/10\n",
    "#evolution\n",
    "scene.pause()\n",
    "\n",
    "Nsteps = 1e4 #number of time steps for the loop\n",
    "\n",
    "while t < Nsteps*dt:\n",
    "    rate(500) #sets number of loops per second in order to slow down or speed up visualization\n",
    "\n",
    "    #update position of each particle\n",
    "    for particle in particles:\n",
    "        particle.pos = particle.pos + particle.v*dt\n",
    "   \n",
    "    #handle collisions of particles with each other\n",
    "    collided_pairs = check_collisions()\n",
    "    for pair in collided_pairs:\n",
    "        i = pair[0]\n",
    "        j = pair[1]\n",
    "        calc_collision(i,j)\n",
    "    \n",
    "    #handle collision with walls\n",
    "    for particle in particles:\n",
    "        if particle.pos.x > 2*L:\n",
    "            particle.pos.x = -2*L\n",
    "        elif particle.pos.x < -2*L:\n",
    "            particle.pos.x = 2*L\n",
    "        if particle.pos.y > L/2:\n",
    "            particle.v.y = - abs(particle.v.y)\n",
    "            particle.p = m*particle.v\n",
    "        elif particle.pos.y < -L/2:\n",
    "            particle.v.y = abs(particle.v.y)\n",
    "            particle.p = m*particle.v\n",
    "\n",
    "        if particle.pos.z > L/2:\n",
    "            particle.v.z = - abs(particle.v.z)\n",
    "            particle.p = m*particle.v\n",
    "        elif particle.pos.z < -L/2:\n",
    "            particle.v.z = abs(particle.v.z)\n",
    "            particle.p = m*particle.v\n",
    "\n",
    "    t = t + dt\n"
   ]
  },
  {
   "cell_type": "markdown",
   "id": "c0ee27ba",
   "metadata": {},
   "source": [
    "### Creation of the atoms in the system \n",
    "    there will be atoms that will be fixed objects in the model to simulate the the materials in the system which the electrons will be colliding with will its going through the system"
   ]
  },
  {
   "cell_type": "code",
   "execution_count": null,
   "id": "86f67efc",
   "metadata": {},
   "outputs": [],
   "source": [
    "scene = canvas(title=\"N Particles in a Box\")\n",
    "\n",
    "#constants\n",
    "m = 1.7e-27 #mass of atom in kg\n",
    "R = 0.5e-10 #radius of atom in m\n",
    "L = 40*R #length of box in m\n",
    "thick = L/100 #thickness of box wall in m\n",
    "k = 1.4e-23 #boltzmann constant\n",
    "T = 300 #temp in K\n",
    "s =  np.sqrt(2*3/2*k*T/m) #initial speed\n",
    "\n",
    "\n",
    "Lwall = box(pos = vec(-2*L, 0, 0), size = vec(thick, L, L), color=color.white)\n",
    "Rwall = box(pos = vec(2*L, 0, 0), size = vec(thick, L, L), color=color.white)\n",
    "Bwall = box(pos = vec(0, -L/2, 0), size = vec(4*L, thick, L), color=color.white)\n",
    "Twall = box(pos = vec(0, L/2, 0), size = vec(4*L, thick, L), color=color.white)\n",
    "Zwall = box(pos = vec(0, 0, -L/2), size = vec(4*L, L, thick), color=color.white)\n",
    "\n",
    "M = 6\n",
    "#creating atoms in area\n",
    "for x in range(M):\n",
    "    for y in range(M):\n",
    "        for z in range(M):\n",
    "            if x % 2 == 0:\n",
    "                atom = sphere(pos = vec(2*L*(x/(M-1)-.5),L/1.5*(y/(M-1)-.5),L*(z/(M-1)-.5)), radius = R, color = color.red)\n",
    "            else:\n",
    "                atom = sphere(pos = vec(1.8*L*(x/(M-1)-.5),L/2*(y/(M-1)-.5),L*(z/(M-1)-.5)), radius = R, color = color.red)"
   ]
  },
  {
   "cell_type": "markdown",
   "id": "6bbb6169",
   "metadata": {},
   "source": [
    "## Idea / Base on objects collioding with fixed objects\n",
    "    this is the base model in a moving object colliding with a fixed object\n",
    "    one of the change we would need to do from this compared to the whole project is creating a nessed loop since there would be multiple particles and atoms so we need the nested loop to check each one.\n",
    "    the other change is the values since we have different R values."
   ]
  },
  {
   "cell_type": "code",
   "execution_count": null,
   "id": "758de91d",
   "metadata": {},
   "outputs": [],
   "source": [
    "GlowScript 3.2 VPython\n",
    "scene=canvas()\n",
    "Rfixed = 1\n",
    "Rball = 2*Rfixed\n",
    "fixed = sphere(pos=vec(0,0,0), radius=Rfixed, color=color.yellow)\n",
    "ball = sphere(pos=vec(0,4*Rball,0.5*(Rfixed+Rball)), radius=Rball, color=color.cyan, make_trail=True)\n",
    "ball.v = vec(0,-3,0)\n",
    "\n",
    "t = 0 \n",
    "dt = 0.01\n",
    "\n",
    "scene.pause()\n",
    "\n",
    "while t < 5:\n",
    "    rate(100)\n",
    "    \n",
    "    ball.pos = ball.pos + ball.v*dt\n",
    "    \n",
    "    r = ball.pos - fixed.pos\n",
    "    if mag(r) < Rfixed+Rball:\n",
    "        rhat = hat(r)\n",
    "        vballrad = dot(ball.v,rhat)*rhat #rad comp of ball.v\n",
    "        vballtan = ball.v - vballrad #tan comp of ball.v\n",
    "        vballrad = - vballrad #reverse ball.rad due to collision\n",
    "        ball.v = vballtan + vballrad #new ball.v after collision\n",
    "        p= mag(r)\n",
    "        print(p)\n",
    "\n",
    "    t = t + dt"
   ]
  },
  {
   "cell_type": "markdown",
   "id": "d1ef15e0",
   "metadata": {},
   "source": [
    "## Putting it together \n",
    "we are putting together all to create the model Idealy the electrons should be moving to the right to simulate the electrical circuit moving to the right. \n",
    "\n",
    "there is an issue with the collsion with the fixed object/atom\n",
    "\n"
   ]
  },
  {
   "cell_type": "code",
   "execution_count": null,
   "id": "2862a1cf",
   "metadata": {},
   "outputs": [
    {
     "data": {
      "text/html": [
       "<div id=\"glowscript\" class=\"glowscript\"></div>"
      ],
      "text/plain": [
       "<IPython.core.display.HTML object>"
      ]
     },
     "metadata": {},
     "output_type": "display_data"
    },
    {
     "data": {
      "application/javascript": [
       "if (typeof Jupyter !== \"undefined\") { window.__context = { glowscript_container: $(\"#glowscript\").removeAttr(\"id\")};}else{ element.textContent = ' ';}"
      ],
      "text/plain": [
       "<IPython.core.display.Javascript object>"
      ]
     },
     "metadata": {},
     "output_type": "display_data"
    },
    {
     "name": "stdout",
     "output_type": "stream",
     "text": [
      "1.25e-10\n"
     ]
    }
   ],
   "source": [
    "scene = canvas(title=\"Drude Model electrons moving through the system\")\n",
    "\n",
    "#constants\n",
    "m = 1.7e-27 #mass of atom in kg\n",
    "R = 0.5e-10 #radius of atom in m\n",
    "L = 40*R #length of box in m\n",
    "thick = L/100 #thickness of box wall in m\n",
    "k = 1.4e-23 #boltzmann constant\n",
    "T = 300 #temp in K\n",
    "s =  np.sqrt(2*3/2*k*T/m) #initial speed\n",
    "Rfixed = 1.5*R\n",
    "\n",
    "\n",
    "Lwall = box(pos = vec(-2*L, 0, 0), size = vec(thick, L, L), color=color.white)\n",
    "Rwall = box(pos = vec(2*L, 0, 0), size = vec(thick, L, L), color=color.white)\n",
    "Bwall = box(pos = vec(0, -L/2, 0), size = vec(4*L, thick, L), color=color.white)\n",
    "Twall = box(pos = vec(0, L/2, 0), size = vec(4*L, thick, L), color=color.white)\n",
    "Zwall = box(pos = vec(0, 0, -L/2), size = vec(4*L, L, thick), color=color.white)\n",
    "\n",
    "particles = [] #list of particles\n",
    "\n",
    "atoms = [] #list of atoms\n",
    "\n",
    "N=20 #number of particles\n",
    "\n",
    "M = 7 #number of atoms in area\n",
    "\n",
    "#creating atoms in area\n",
    "for x in range(M):\n",
    "    for y in range(M):\n",
    "        for z in range(M):\n",
    "            if x % 2 == 0:\n",
    "                atom = sphere(pos = vec(2*L*(x/(M-1)-.5),L/1.5*(y/(M-1)-.5),L*(z/(M-1)-.5)), radius = Rfixed, color = color.red)\n",
    "            else:\n",
    "                atom = sphere(pos = vec(1.8*L*(x/(M-1)-.5),L/2*(y/(M-1)-.5),L*(z/(M-1)-.5)), radius = Rfixed, color = color.red)\n",
    "\n",
    "#create particles\n",
    "for i in range(N):\n",
    "    if i==0:\n",
    "        particle = sphere(pos = L/2*vec(rand.uniform(-2,-1),rand.uniform(-0.9,0.9),rand.uniform(-0.9,0.9)), radius = R, color = color.cyan, make_trail=True, retain=20, trail_radius=0.3*R)\n",
    "    else:\n",
    "        particle = sphere(pos = L/2*vec(rand.uniform(-2,-1),rand.uniform(-0.9,0.9),rand.uniform(-0.9,0.9)), radius = R, color = color.red)\n",
    "\n",
    "    #initial velocity\n",
    "    particle.v = s*hat(vec(1, rand.uniform(-1,1),rand.uniform(-1,1)))\n",
    "    particle.p = m*particle.v\n",
    "\n",
    "    particles.append(particle)\n",
    "    atoms.append(atom)\n",
    "\n",
    "#check for collisions and rerandomize positions of particles that are collided\n",
    "collided_pairs = check_collisions()\n",
    "while len(collided_pairs)!=0:\n",
    "    for pair in collided_pairs:\n",
    "        particles[pair[0]].pos = L/2*vec(rand.uniform(-1,1),rand.uniform(-1,1),rand.uniform(-1,1))\n",
    "        particles[pair[1]].pos = L/2*vec(rand.uniform(-1,1),rand.uniform(-1,1),rand.uniform(-1,1))\n",
    "    collided_pairs = check_collisions()\n",
    "\n",
    "#time\n",
    "t = 0\n",
    "dt = R/s/10\n",
    "#evolution\n",
    "scene.pause()\n",
    "\n",
    "Nsteps = 1e4 #number of time steps for the loop\n",
    "\n",
    "while t < Nsteps*dt:\n",
    "    rate(500) #sets number of loops per second in order to slow down or speed up visualization\n",
    "\n",
    "    #update position of each particle\n",
    "    for particle in particles:\n",
    "        particle.pos = particle.pos + particle.v*dt\n",
    "   \n",
    "    #update the collision of fixed object and particle  \n",
    "    for particle in particles:\n",
    "        for atom in atoms:\n",
    "            r = particle.pos - atom.pos\n",
    "            if mag(r) < Rfixed+R:\n",
    "                rhat = hat(r)\n",
    "                vparticlerad = dot(particle.v,rhat)*rhat #rad comp of ball.v\n",
    "                vparticletan = particle.v - vparticlerad #tan comp of ball.v\n",
    "                vparticlerad = - vparticlerad #reverse ball.rad due to collision\n",
    "                particle.v = vparticletan + vparticlerad #new ball.v after collision\n",
    "                particle.pos = particle.pos + particle.v*dt\n",
    "            \n",
    "\n",
    "    #handle collisions of particles with each other\n",
    "    collided_pairs = check_collisions()\n",
    "    for pair in collided_pairs:\n",
    "        i = pair[0]\n",
    "        j = pair[1]\n",
    "        calc_collision(i,j)\n",
    "    \n",
    "    #handle collision with walls\n",
    "    for particle in particles:\n",
    "        if particle.pos.x > 2*L:\n",
    "            particle.pos.x = -2*L\n",
    "        elif particle.pos.x < -2*L:\n",
    "            particle.pos.x = 2*L\n",
    "        if particle.pos.y > L/2:\n",
    "            particle.v.y = - abs(particle.v.y)\n",
    "            particle.p = m*particle.v\n",
    "        elif particle.pos.y < -L/2:\n",
    "            particle.v.y = abs(particle.v.y)\n",
    "            particle.p = m*particle.v\n",
    "\n",
    "        if particle.pos.z > L/2:\n",
    "            particle.v.z = - abs(particle.v.z)\n",
    "            particle.p = m*particle.v\n",
    "        elif particle.pos.z < -L/2:\n",
    "            particle.v.z = abs(particle.v.z)\n",
    "            particle.p = m*particle.v\n",
    "\n",
    "    t = t + dt\n"
   ]
  },
  {
   "cell_type": "code",
   "execution_count": null,
   "id": "2e26a187",
   "metadata": {},
   "outputs": [],
   "source": []
  },
  {
   "cell_type": "code",
   "execution_count": null,
   "id": "3c5afbe0",
   "metadata": {},
   "outputs": [],
   "source": []
  }
 ],
 "metadata": {
  "kernelspec": {
   "display_name": "Python 3 (ipykernel)",
   "language": "python",
   "name": "python3"
  },
  "language_info": {
   "codemirror_mode": {
    "name": "ipython",
    "version": 3
   },
   "file_extension": ".py",
   "mimetype": "text/x-python",
   "name": "python",
   "nbconvert_exporter": "python",
   "pygments_lexer": "ipython3",
   "version": "3.9.7"
  }
 },
 "nbformat": 4,
 "nbformat_minor": 5
}
